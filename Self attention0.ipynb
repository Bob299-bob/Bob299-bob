{
  "nbformat": 4,
  "nbformat_minor": 0,
  "metadata": {
    "colab": {
      "provenance": [],
      "authorship_tag": "ABX9TyM0h2TsgqH6HoAqM7mrjL91",
      "include_colab_link": true
    },
    "kernelspec": {
      "name": "python3",
      "display_name": "Python 3"
    },
    "language_info": {
      "name": "python"
    }
  },
  "cells": [
    {
      "cell_type": "markdown",
      "metadata": {
        "id": "view-in-github",
        "colab_type": "text"
      },
      "source": [
        "<a href=\"https://colab.research.google.com/github/Bob299-bob/Bob299-bob/blob/main/Self%20attention0.ipynb\" target=\"_parent\"><img src=\"https://colab.research.google.com/assets/colab-badge.svg\" alt=\"Open In Colab\"/></a>"
      ]
    },
    {
      "cell_type": "code",
      "execution_count": 1,
      "metadata": {
        "colab": {
          "base_uri": "https://localhost:8080/"
        },
        "id": "lFxK67e9Agfp",
        "outputId": "67172925-0120-4513-8ce4-096730b372fe"
      },
      "outputs": [
        {
          "output_type": "stream",
          "name": "stdout",
          "text": [
            "Q\n",
            " [[-0.54503227 -1.15214731 -0.96160735 -0.11798104 -0.18882021  1.36600755\n",
            "   1.23432525  0.27476257]\n",
            " [-0.15844214  0.18036178  0.33497467 -0.47290726 -1.27985217  0.05259445\n",
            "  -0.89348969 -1.90439928]\n",
            " [ 1.64581503 -0.36206611  0.12754983 -1.14893296 -0.78663228  0.72627737\n",
            "  -2.01373916 -0.42957419]\n",
            " [ 0.87543502  1.80169927 -2.05680137  0.05121163 -1.91627116 -1.3054658\n",
            "   0.40095734  0.79500104]]\n",
            "k\n",
            " [[-0.83891867  0.03235668  1.09894921  0.25816951  1.13432664 -0.23879126\n",
            "   0.60925035 -0.24341732]\n",
            " [-0.34996316  0.01549025 -1.92937564  0.27122566  0.23547871  0.0858173\n",
            "  -0.42017843  0.94720126]\n",
            " [ 0.0916519  -0.54475479  2.16216592 -0.92680786  0.5271166  -0.9631544\n",
            "  -0.46951527 -0.44100734]\n",
            " [ 0.37683183  0.93800214  0.78285966  0.55595439 -0.87378001 -0.13245973\n",
            "   3.23088998 -0.38973411]]\n",
            "v\n",
            " [[ 0.99618442 -1.74628123 -0.78800154 -0.11646669 -0.76338915 -0.78812877\n",
            "   0.04111736  0.44506083]\n",
            " [-0.77544858  0.83551834  0.25098753  0.76310697 -0.69438411  0.72104198\n",
            "   0.22399447  0.67948197]\n",
            " [-1.04404924 -0.86200795  0.40549757 -0.54881507 -2.15936286 -1.28690933\n",
            "   0.03653413 -0.40685607]\n",
            " [ 0.02542818  0.52763162 -0.05626227 -0.07873982  1.80676196  0.13668145\n",
            "  -0.84123397 -0.24710916]]\n"
          ]
        }
      ],
      "source": [
        "import numpy as np\n",
        "import math\n",
        "l,d_k,d_v=4,8,8\n",
        "q=np.random.randn(l,d_k)\n",
        "k=np.random.randn(l,d_k)\n",
        "v=np.random.randn(l,d_k)\n",
        "print(\"Q\\n\",q)\n",
        "print(\"k\\n\",k)\n",
        "print(\"v\\n\",v)"
      ]
    },
    {
      "cell_type": "markdown",
      "source": [
        "#q=query,k=key,v=value.\n",
        "#query=what i am looking for.(Q)\n",
        "#key=what i current have .(K)\n",
        "#value=what i offer.\n",
        "\n",
        "self attention\n",
        "\n",
        "              softmax((Q.k^t/sqrt(d_k))+M)V"
      ],
      "metadata": {
        "id": "EmhZkPD8BB2A"
      }
    },
    {
      "cell_type": "code",
      "source": [
        "np.matmul(q,k.T)\n",
        "q.var(),k.var(),np.matmul(q,k.T).var()\n",
        "scaled=np.matmul(q,k.T)/math.sqrt(d_k)\n",
        "q.var(),k.var(),scaled.var()"
      ],
      "metadata": {
        "colab": {
          "base_uri": "https://localhost:8080/"
        },
        "id": "ACuRjv42CIny",
        "outputId": "515301c0-e615-4ecb-f80c-6ec80beb3beb"
      },
      "execution_count": 2,
      "outputs": [
        {
          "output_type": "execute_result",
          "data": {
            "text/plain": [
              "(np.float64(1.0807922849400011),\n",
              " np.float64(0.9038956529969085),\n",
              " np.float64(1.150204977338054))"
            ]
          },
          "metadata": {},
          "execution_count": 2
        }
      ]
    }
  ]
}